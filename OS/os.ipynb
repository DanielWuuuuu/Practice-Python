{
 "cells": [
  {
   "cell_type": "code",
   "execution_count": 1,
   "id": "5537ac17",
   "metadata": {},
   "outputs": [],
   "source": [
    "import os"
   ]
  },
  {
   "cell_type": "markdown",
   "id": "4f0c1a10",
   "metadata": {},
   "source": [
    "# 絕對路徑與相對路徑"
   ]
  },
  {
   "cell_type": "markdown",
   "id": "f86ab349",
   "metadata": {},
   "source": [
    "作業系統允許路徑有兩種指定方式：\n",
    "1. 「絕對路徑」是從根目錄開始。\n",
    "2. 「相對路徑」是檔案相對於檔案系統某一個參考點的位置，若參考點改變，最後指到的位置就會不一樣。\n",
    "\n",
    "那麼要如何取得「參考點」的位置？有兩種方式可以達到：\n",
    "1. 將相對路徑附加到絕對路徑的後面，從而產生新的絕對路徑。\n",
    "2. 將目前工作目錄當作參考點。\n",
    "\n",
    "那麼要如何取得「目前工作目錄」？"
   ]
  },
  {
   "cell_type": "markdown",
   "id": "b5d91e3d",
   "metadata": {},
   "source": [
    "# os.getcwd() — 目前工作目錄"
   ]
  },
  {
   "cell_type": "markdown",
   "id": "481118c7",
   "metadata": {},
   "source": [
    "目前工作目錄（current working directory），可以簡稱為cwd。  \n",
    "可以利用os.getcwd()函式取得目前工作目錄，並且可以用os.chdir()來切換變更目錄。"
   ]
  },
  {
   "cell_type": "code",
   "execution_count": 2,
   "id": "4c3c42aa",
   "metadata": {},
   "outputs": [
    {
     "name": "stdout",
     "output_type": "stream",
     "text": [
      "改變前: d:\\code\\jupyter_yolov5\n",
      "改變後: d:\\code\n"
     ]
    }
   ],
   "source": [
    "print('改變前: {}'.format(os.getcwd()))\n",
    "os.chdir('../')\n",
    "print('改變後: {}'.format(os.getcwd()))"
   ]
  },
  {
   "cell_type": "markdown",
   "id": "a22cc5f9",
   "metadata": {},
   "source": [
    "# os.listdir() — 路徑下所有檔案清單"
   ]
  },
  {
   "cell_type": "markdown",
   "id": "e2e946d2",
   "metadata": {},
   "source": [
    "可以取得指定路徑下所有子目錄與檔案的清單。  \n",
    "透過 os.curdir 作為 os.listdir() 的參數，可以取得目前工作目錄裡面的清單。"
   ]
  },
  {
   "cell_type": "code",
   "execution_count": 3,
   "id": "ae2b8462",
   "metadata": {},
   "outputs": [
    {
     "data": {
      "text/plain": [
       "['CR1',\n",
       " 'darknet-master',\n",
       " 'iCatch',\n",
       " 'jupyter_torch',\n",
       " 'jupyter_yolov5',\n",
       " 'test.csv',\n",
       " 'test2.csv',\n",
       " 'yolov5-pytorch',\n",
       " 'yolov5-yolov5',\n",
       " 'yolo_zip-file']"
      ]
     },
     "execution_count": 3,
     "metadata": {},
     "output_type": "execute_result"
    }
   ],
   "source": [
    "os.listdir(os.curdir)"
   ]
  },
  {
   "cell_type": "markdown",
   "id": "e740f230",
   "metadata": {},
   "source": [
    "# glob模組"
   ]
  },
  {
   "cell_type": "markdown",
   "id": "9331cd30",
   "metadata": {},
   "source": [
    "在使用 os.listdir 的時候，可能會發現路徑中有一些檔案並不是你想要處理的檔案。  \n",
    "可以使用glob模組中的glob函式來進行篩選。glob函式會回傳目前工作目錄中與條件符合的檔案。"
   ]
  },
  {
   "cell_type": "raw",
   "id": "c6619639",
   "metadata": {},
   "source": [
    "import glob\n",
    "glob.glob（path_name)"
   ]
  },
  {
   "cell_type": "markdown",
   "id": "7ba91f48",
   "metadata": {},
   "source": [
    "glob.glob(path_name)，這裡的 path_name可以是絕對路徑，也可以是相對路徑。  \n",
    "我們可以用萬用字元(*)加上其他的字串，取出想要的檔案。萬用字元可以對應任何數量的任何字元。  \n",
    "  \n",
    "如下，我們可以找到資料夾裡面所有副檔名為csv的檔案。"
   ]
  },
  {
   "cell_type": "code",
   "execution_count": 4,
   "id": "178d0a79",
   "metadata": {},
   "outputs": [
    {
     "data": {
      "text/plain": [
       "['test.csv', 'test2.csv']"
      ]
     },
     "execution_count": 4,
     "metadata": {},
     "output_type": "execute_result"
    }
   ],
   "source": [
    "import glob\n",
    "glob.glob(\"*.csv\")"
   ]
  },
  {
   "cell_type": "markdown",
   "id": "8ae5e65c",
   "metadata": {},
   "source": [
    "# os.path — 處理路徑名稱"
   ]
  },
  {
   "cell_type": "markdown",
   "id": "0a3cade4",
   "metadata": {},
   "source": [
    "os.path模組裡面有很多與檔案名稱和檔案的路徑有關的函式。  \n",
    "因為os.path是os模組裡面的模組，只需要import os到py檔案裡面就可以使用了。  \n",
    "我們可以使用os.path來取得路徑名稱。"
   ]
  },
  {
   "cell_type": "markdown",
   "id": "149290a4",
   "metadata": {},
   "source": [
    "如果要拼接路徑的話，可以使用os.path.join()。  \n",
    "  \n",
    "os.path會依照目前正在使用的作業系統以系統正確的分隔符號來分割資料夾和檔名。  \n",
    "無論是使用哪一個作業系統，os.path.join()都不會檢查參數是否合法。  \n",
    "__因此在使用時，最好是自己寫一個函式來檢查路徑的合法性。__"
   ]
  },
  {
   "cell_type": "markdown",
   "id": "7868d68e",
   "metadata": {},
   "source": [
    "## os.path.join()"
   ]
  },
  {
   "cell_type": "code",
   "execution_count": 5,
   "id": "df46e48f",
   "metadata": {},
   "outputs": [
    {
     "name": "stdout",
     "output_type": "stream",
     "text": [
      "new_project\\index.html\n",
      "new_project\\main.css\n",
      "new_project\\main.js\n"
     ]
    }
   ],
   "source": [
    "files = [\"index.html\",\"main.css\",\"main.js\"]\n",
    "for filename in files:\n",
    "    print(os.path.join(\"new_project\", filename))"
   ]
  },
  {
   "cell_type": "markdown",
   "id": "0c5e2056",
   "metadata": {},
   "source": [
    "### 與os.curdir搭配使用"
   ]
  },
  {
   "cell_type": "markdown",
   "id": "5e196ea1",
   "metadata": {},
   "source": [
    "我們可以用下面方式取得目前工作目錄下面的特定資料夾：  \n",
    "下面程式碼可以取得目前工作目錄下面jupyter_yolov5資料夾中的所有檔案名稱。"
   ]
  },
  {
   "cell_type": "code",
   "execution_count": 6,
   "id": "d4a5d47d",
   "metadata": {},
   "outputs": [
    {
     "data": {
      "text/plain": [
       "['.ipynb_checkpoints',\n",
       " 'capture_livestream.ipynb',\n",
       " 'capture_livestream.py',\n",
       " 'os.ipynb',\n",
       " 'VLC module in Python – An Introduction.ipynb',\n",
       " 'YouTube Media Audio Download using Python – pafy and vlc.ipynb']"
      ]
     },
     "execution_count": 6,
     "metadata": {},
     "output_type": "execute_result"
    }
   ],
   "source": [
    "url = os.path.join(os.curdir,'jupyter_yolov5')\n",
    "os.listdir(url)"
   ]
  },
  {
   "cell_type": "markdown",
   "id": "4b859071",
   "metadata": {},
   "source": [
    "## os.path.basename(path)"
   ]
  },
  {
   "cell_type": "markdown",
   "id": "347850fd",
   "metadata": {},
   "source": [
    "basename是指路徑最後的目錄或檔案名稱。  \n",
    "使用os.path.basename()，會擷取路徑最後的資料夾或檔案名稱。"
   ]
  },
  {
   "cell_type": "code",
   "execution_count": 8,
   "id": "84019a21",
   "metadata": {},
   "outputs": [
    {
     "data": {
      "text/plain": [
       "'jupyter_yolov5'"
      ]
     },
     "execution_count": 8,
     "metadata": {},
     "output_type": "execute_result"
    }
   ],
   "source": [
    "os.path.basename(url)"
   ]
  },
  {
   "cell_type": "markdown",
   "id": "ee985d28",
   "metadata": {},
   "source": [
    "承上，這個程式碼會取得的結果是jupyter_yolov5。因為jupyter_yolov5是最後的目錄。"
   ]
  },
  {
   "cell_type": "markdown",
   "id": "97258a2f",
   "metadata": {},
   "source": [
    "## os.path.split(path)"
   ]
  },
  {
   "cell_type": "markdown",
   "id": "09c44701",
   "metadata": {},
   "source": [
    "會將basename與路徑的其他部分分開，並且以tuple的型態傳回。"
   ]
  },
  {
   "cell_type": "markdown",
   "id": "9c3cbb4b",
   "metadata": {},
   "source": [
    "## os.path.dirname(path)"
   ]
  },
  {
   "cell_type": "markdown",
   "id": "2cc9bb50",
   "metadata": {},
   "source": [
    "會傳回路徑中不包括basename的部分。"
   ]
  },
  {
   "cell_type": "markdown",
   "id": "4bc9fd32",
   "metadata": {},
   "source": [
    "## os.path.splitext(path)"
   ]
  },
  {
   "cell_type": "markdown",
   "id": "be21fd96",
   "metadata": {},
   "source": [
    "可以取得檔案的副檔名，並且以tuple的型態傳回，第一個元素是路徑第二個元素是副檔名。"
   ]
  },
  {
   "cell_type": "code",
   "execution_count": 9,
   "id": "7c5b0ba9",
   "metadata": {},
   "outputs": [
    {
     "name": "stdout",
     "output_type": "stream",
     "text": [
      "product\\men\\clothes\\index.html\n",
      "split: ('product\\\\men\\\\clothes', 'index.html')\n",
      "basename: index.html\n",
      "dirname: product\\men\\clothes\n",
      "splitext: ('product\\\\men\\\\clothes\\\\index', '.html')\n"
     ]
    }
   ],
   "source": [
    "import os\n",
    "a = os.path.join('product','men','clothes','index.html')\n",
    "split = os.path.split(a)\n",
    "basename = os.path.basename(a)\n",
    "dirname = os.path.dirname(a)\n",
    "splitext = os.path.splitext(a)\n",
    "print(a)\n",
    "print('split: ' + str(split))\n",
    "print('basename: '+ basename)\n",
    "print('dirname: '+ dirname)\n",
    "print('splitext: '+ str(splitext))"
   ]
  },
  {
   "cell_type": "markdown",
   "id": "2e2c18e9",
   "metadata": {},
   "source": [
    "## os.path.abspath(path)"
   ]
  },
  {
   "cell_type": "markdown",
   "id": "c19c7cca",
   "metadata": {},
   "source": [
    "如果你只知道相對路徑，可以透過呼叫os.path.abspath()取得絕對路徑。這是將相對路徑轉換為絕對路徑的一個簡單方法。"
   ]
  },
  {
   "cell_type": "markdown",
   "id": "939238c7",
   "metadata": {},
   "source": [
    "## os.path.isabs(path)"
   ]
  },
  {
   "cell_type": "markdown",
   "id": "870cd9d5",
   "metadata": {},
   "source": [
    "如果path是絕對路徑的話，就會返回True，反之如果path是相對路徑的話，，就會返回False。"
   ]
  },
  {
   "cell_type": "markdown",
   "id": "9ca5acff",
   "metadata": {},
   "source": [
    "## os.path.isdir(path)"
   ]
  },
  {
   "cell_type": "markdown",
   "id": "47fc88c5",
   "metadata": {},
   "source": [
    "確認路徑是否存在，若存在回傳True，反之回傳False。"
   ]
  },
  {
   "cell_type": "markdown",
   "id": "b5166bc3",
   "metadata": {},
   "source": [
    "# 建立資料夾（目錄）"
   ]
  },
  {
   "cell_type": "markdown",
   "id": "02a06284",
   "metadata": {},
   "source": [
    "可以利用os.makedirs()函式來建立資料夾。例如："
   ]
  },
  {
   "cell_type": "raw",
   "id": "4fefbfd5",
   "metadata": {},
   "source": [
    "os.makedirs(\"new_project\")"
   ]
  },
  {
   "cell_type": "markdown",
   "id": "fed934c0",
   "metadata": {},
   "source": [
    "上面的程式將會建立一個new_project資料夾。  \n",
    "如果是下面的程式碼，則會建立一個new_project資料夾與一個jupyter子資料夾："
   ]
  },
  {
   "cell_type": "raw",
   "id": "0e372ca7",
   "metadata": {},
   "source": [
    "os.makedirs(\"new_project/jupyter\")"
   ]
  },
  {
   "cell_type": "markdown",
   "id": "369b87fd",
   "metadata": {},
   "source": [
    "如果資料夾已經存在的話，該如何？  \n",
    "由於makedirs的預設屬性是False，因此若資料夾已經存在，會顯示錯誤訊息。  \n",
    "反之，如果想要覆蓋已存在的資料夾，可以加上 exist_ok = True 參數。"
   ]
  },
  {
   "cell_type": "raw",
   "id": "5bb8fdd6",
   "metadata": {},
   "source": [
    "os.makedirs(\"new_project/jupyter\", exist_ok = True)"
   ]
  },
  {
   "cell_type": "markdown",
   "id": "2ef07b3a",
   "metadata": {},
   "source": [
    "值得注意的是，使用os.makedirs()或os.mkdir()都可以建立新目錄。  \n",
    "這兩個函式的差別在於os.mkdir()__不會自動建立多層目錄__，而os.makedirs()__可以建立多層目錄__。"
   ]
  },
  {
   "cell_type": "markdown",
   "id": "51fded9a",
   "metadata": {},
   "source": [
    "# 其他操作"
   ]
  },
  {
   "cell_type": "markdown",
   "id": "2f3252de",
   "metadata": {},
   "source": [
    "## os.rename() — 重新命名檔案"
   ]
  },
  {
   "cell_type": "raw",
   "id": "b8a38ba1",
   "metadata": {},
   "source": [
    "os.rename() # 可以重新命名檔案或目錄。"
   ]
  },
  {
   "cell_type": "markdown",
   "id": "91a2af65",
   "metadata": {},
   "source": [
    "## os.remove() — 刪除檔案"
   ]
  },
  {
   "cell_type": "raw",
   "id": "73c4ac90",
   "metadata": {},
   "source": [
    "os.remove() # 可以刪除檔案但是不可以刪除資料夾。"
   ]
  },
  {
   "cell_type": "markdown",
   "id": "f21b0ffc",
   "metadata": {},
   "source": [
    "## os.rmdir() — 刪除資料夾（目錄）"
   ]
  },
  {
   "cell_type": "markdown",
   "id": "1b76a2e4",
   "metadata": {},
   "source": [
    "os.rmdir()可以刪除資料夾，條件是該資料夾必須是__空白資料夾__。"
   ]
  },
  {
   "cell_type": "markdown",
   "id": "da417ab9",
   "metadata": {},
   "source": [
    "# 檔案與資料夾的複製"
   ]
  },
  {
   "cell_type": "markdown",
   "id": "c68f60ce",
   "metadata": {},
   "source": [
    "shutil模組可以幫助你在Python程式中搬移、複製、修改檔名或刪除檔案。使用前，要先匯入shutil模組。"
   ]
  },
  {
   "cell_type": "code",
   "execution_count": 11,
   "id": "5da0da56",
   "metadata": {},
   "outputs": [],
   "source": [
    "import shutil"
   ]
  },
  {
   "cell_type": "markdown",
   "id": "17c39e6d",
   "metadata": {},
   "source": [
    "## shutil.copy() — 複製檔案"
   ]
  },
  {
   "cell_type": "markdown",
   "id": "94b257b7",
   "metadata": {},
   "source": [
    "shutil.copy(src_file, des) # 將來源路徑的檔案（src_file）複製到目的路徑（des）的資料夾裡面。"
   ]
  }
 ],
 "metadata": {
  "kernelspec": {
   "display_name": "yolov5",
   "language": "python",
   "name": "yolov5"
  },
  "language_info": {
   "codemirror_mode": {
    "name": "ipython",
    "version": 3
   },
   "file_extension": ".py",
   "mimetype": "text/x-python",
   "name": "python",
   "nbconvert_exporter": "python",
   "pygments_lexer": "ipython3",
   "version": "3.7.11"
  }
 },
 "nbformat": 4,
 "nbformat_minor": 5
}
