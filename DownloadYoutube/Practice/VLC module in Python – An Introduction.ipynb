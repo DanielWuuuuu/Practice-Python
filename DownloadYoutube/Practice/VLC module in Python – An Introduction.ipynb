{
 "cells": [
  {
   "cell_type": "code",
   "execution_count": null,
   "metadata": {},
   "outputs": [],
   "source": [
    "### EXAMPLE 1\n",
    "\n",
    "# importing vlc module\n",
    "import vlc\n",
    " \n",
    "# creating vlc media player object\n",
    "media = vlc.MediaPlayer(\"1.mp4\")\n",
    " \n",
    "# start playing video\n",
    "media.play()\n",
    "\n",
    "print('done')"
   ]
  },
  {
   "cell_type": "code",
   "execution_count": null,
   "metadata": {},
   "outputs": [],
   "source": [
    "### EXAMPLE 2\n",
    "\n",
    "# importing time and vlc\n",
    "import time, vlc\n",
    " \n",
    "# method to play video\n",
    "def video(source):\n",
    "     \n",
    "    # creating a vlc instance\n",
    "    vlc_instance = vlc.Instance()\n",
    "     \n",
    "    # creating a media player\n",
    "    player = vlc_instance.media_player_new()\n",
    "     \n",
    "    # creating a media\n",
    "    media = vlc_instance.media_new(source)\n",
    "     \n",
    "    # setting media to the player\n",
    "    player.set_media(media)\n",
    "     \n",
    "    # play the video\n",
    "    player.play()\n",
    "     \n",
    "    # wait time\n",
    "    time.sleep(0.5)\n",
    "     \n",
    "    # getting the duration of the video\n",
    "    duration = player.get_length()\n",
    "     \n",
    "    # printing the duration of the video\n",
    "    print(\"Duration : \" + str(duration))\n",
    "     \n",
    "# call the video method\n",
    "video(\"1.mp4\")"
   ]
  },
  {
   "cell_type": "code",
   "execution_count": null,
   "metadata": {},
   "outputs": [],
   "source": [
    "### EXAMPLE 3\n",
    "\n",
    "# importing vlc module\n",
    "import vlc\n",
    "  \n",
    "# importing time module\n",
    "import time\n",
    "  \n",
    "# creating Instance class object\n",
    "player = vlc.Instance()\n",
    "  \n",
    "# creating a new media\n",
    "media = player.media_new(\"1.mp4\")\n",
    "  \n",
    "# creating a media player object\n",
    "media_player = player.media_player_new()\n",
    "  \n",
    "media_player.set_media(media)\n",
    "  \n",
    "# setting video scale\n",
    "media_player.video_set_scale(0.6)\n",
    "  \n",
    "# start playing video\n",
    "media_player.play()\n",
    "  \n",
    "# wait so the video can be played for 5 seconds\n",
    "# irrespective for length of video\n",
    "# 執行.play()後開始計時 .sleep(sec) 計時結束後往下執行\n",
    "time.sleep(5)\n",
    "\n",
    "# 關閉播放器\n",
    "media_player.stop()"
   ]
  }
 ],
 "metadata": {
  "kernelspec": {
   "display_name": "Python 3 (ipykernel)",
   "language": "python",
   "name": "python3"
  },
  "language_info": {
   "codemirror_mode": {
    "name": "ipython",
    "version": 3
   },
   "file_extension": ".py",
   "mimetype": "text/x-python",
   "name": "python",
   "nbconvert_exporter": "python",
   "pygments_lexer": "ipython3",
   "version": "3.7.11"
  }
 },
 "nbformat": 4,
 "nbformat_minor": 4
}
